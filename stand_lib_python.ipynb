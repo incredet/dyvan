{
  "nbformat": 4,
  "nbformat_minor": 0,
  "metadata": {
    "colab": {
      "provenance": [],
      "include_colab_link": true
    },
    "kernelspec": {
      "name": "python3",
      "display_name": "Python 3"
    },
    "language_info": {
      "name": "python"
    }
  },
  "cells": [
    {
      "cell_type": "markdown",
      "metadata": {
        "id": "view-in-github",
        "colab_type": "text"
      },
      "source": [
        "<a href=\"https://colab.research.google.com/github/incredet/dyvan/blob/main/stand_lib_python.ipynb\" target=\"_parent\"><img src=\"https://colab.research.google.com/assets/colab-badge.svg\" alt=\"Open In Colab\"/></a>"
      ]
    },
    {
      "cell_type": "markdown",
      "metadata": {
        "id": "-Bq98nH9csXe"
      },
      "source": [
        "#Стандартна бібліотека Python"
      ]
    },
    {
      "cell_type": "markdown",
      "metadata": {
        "id": "dcbzl12txq1e"
      },
      "source": [
        "Модулі стандартної бібліотеки дозволяють вирішувати велику кількість різноманітних завдань. Якщо потрібно вирішити певне завдання, то програміст повинен в першу чергу звернути свою увагу на функціональні можливості модулів стандартної бібліотеки.\n",
        "\n",
        "Опис модулів стандартної бібліотеки виділено в документації в окремий [розділ](https://docs.python.org/3.8/library/index.html).\n",
        "\n",
        "Модулі в описі зруповані за їх призначенням.\n",
        "Коротко розглянемо деякі з них з короткою характеристикою їх призначення. "
      ]
    },
    {
      "cell_type": "markdown",
      "metadata": {
        "id": "oG_eo_fFzYPy"
      },
      "source": [
        "##модуль ​sys\n",
        "Модуль ​`sys` надає доступ до об'єктів, з якими працює, та які використовує інтерпретатор. Модуль також містить функції для взаємодії з інтерпретатором. "
      ]
    },
    {
      "cell_type": "markdown",
      "metadata": {
        "id": "8jjpJZdD0HyD"
      },
      "source": [
        "###список ​sys​.​argv\n",
        "Серед об\\`єктів до яких можна отримати доступ потрібно звернути увагу на список ​`sys​.​argv`​, який містить аргументи командного рядка.\n",
        "Це важливий об'єкт й опису його використання присвячено окремі вказівки."
      ]
    },
    {
      "cell_type": "markdown",
      "metadata": {
        "id": "mmi4vSV12VGt"
      },
      "source": [
        "###атрибути ​stdin, stdout, stderr\n",
        "Модуль ​`sys` ​містить атрибути `​stdin, stdout, stderr` (\"стандартний ввід\", \"стандартний вивід\" та \"стандартний вивід помилок\" відповідно) - файлові об'єкти що дозволяють організовувати та переспрямовувати введення та виведення. Останній корисний для організації виведення попереджень та повідомлень про помилки при переспрямуванні `​stdout` у файл.\n"
      ]
    },
    {
      "cell_type": "code",
      "metadata": {
        "colab": {
          "base_uri": "https://localhost:8080/"
        },
        "id": "g3_gHfFHcZU-",
        "outputId": "10fc327b-a5ea-424c-bb0a-9581fa10d69f"
      },
      "source": [
        "import sys\n",
        "\n",
        "sys.stderr.write(\"Попередження: файл для запису не знайдено; створюється новий файл\")"
      ],
      "execution_count": null,
      "outputs": [
        {
          "output_type": "stream",
          "name": "stderr",
          "text": [
            "Попередження: файл для запису не знайдено; створюється новий файл"
          ]
        }
      ]
    },
    {
      "cell_type": "markdown",
      "metadata": {
        "id": "utjwn1Ce3Oih"
      },
      "source": [
        "###функція ​sys.exit()\n",
        "Найпростіший шлях виходу з програми — це виклик функції ​`sys.exit()`.\n",
        "За потреби можна виводити у `sys.stderr` повідомлення\n",
        "`sys.exit(\"Error message\")`"
      ]
    },
    {
      "cell_type": "markdown",
      "metadata": {
        "id": "nZMHskxW3R-Q"
      },
      "source": [
        "###Змінна ​sys.path\n",
        "Змінна `​sys.path` ​це список рядків, що визначають шляхи, які використовує     інтерпретатор при пошуку модулів. Початкове значення цього списку - стандартне, що береться зі змінної середовища `​PYTHONPATH` ​або із вбудованого стандартного значення (якщо ​`PYTHONPATH` ​не задано). Список `​sys.path` можна змінювати за допомогою стандартних операцій при роботі зі списками. "
      ]
    },
    {
      "cell_type": "markdown",
      "metadata": {
        "id": "9KRFcEZL3V0f"
      },
      "source": [
        "Спробуйте самостійно дізнатися що міститься у наступних об\\'єктах модуля `sys`\n",
        "\n",
        "`sys.version`,\n",
        "\n",
        "`sys.float_info`,\n",
        "\n",
        "`sys.int_info`, \n",
        "\n",
        "`sys.maxsize`,\n",
        "\n",
        "`sys.platform`,\n",
        "\n",
        "`sys.version`,\n",
        "\n",
        "`sys.getsizeof()`,\n",
        "\n",
        "`sys.getdefaultencoding()`,\n",
        "\n",
        "`sys.getrecursionlimit()`,\n",
        "\n",
        "`sys.modules`"
      ]
    },
    {
      "cell_type": "markdown",
      "metadata": {
        "id": "P6N7JYYTI1_Q"
      },
      "source": [
        "##Робота з файловою системою\n",
        "\n",
        "Взаємодія з файловою системою важлива складова програмування. Для вивчення модулів стандартної бібліотеки, які використовуються для роботи з файловою системою розроблено окремі вказівки.\n",
        "\n",
        "Далі наведено тільки короткий перелік цих модулів.  "
      ]
    },
    {
      "cell_type": "markdown",
      "metadata": {
        "id": "VuijiWTz3gM5"
      },
      "source": [
        "##модуль ​os\n",
        "Модуль ​`оs` містить ​функції для отримання інформації та у деяких випадках для   маніпуляції локальними каталогами, файлами, процесами та змінними середовища.  Модуль ​os ​підтримує інтерфейс з операційною системою.\n"
      ]
    },
    {
      "cell_type": "markdown",
      "metadata": {
        "id": "J3hzzNJ54uNq"
      },
      "source": [
        "###модуль os.path\n",
        "Модуль `​os` надає функції для взаємодії з операційною системою, зокрема,      для роботи з файловою системою, а модуль `​os.path` містить набір функцій для  роботи з шляхами до файлів (рядками) та інші допоміжні функції для роботи з     файловою системою. \n",
        "\n",
        "Функція ​`os.path.abspath()` повертає абсолютний шлях аргументу, з видаленням надлишкових розділювачів імен каталогів та елементів ... .                     "
      ]
    },
    {
      "cell_type": "code",
      "metadata": {
        "id": "Rfa_ub2BLrEm",
        "colab": {
          "base_uri": "https://localhost:8080/",
          "height": 36
        },
        "outputId": "13deec8a-2f94-4e8e-f4f2-35228757d49e"
      },
      "source": [
        "import os.path\n",
        "\n",
        "os.path.abspath('/content/sample_data/README.md')"
      ],
      "execution_count": null,
      "outputs": [
        {
          "output_type": "execute_result",
          "data": {
            "application/vnd.google.colaboratory.intrinsic+json": {
              "type": "string"
            },
            "text/plain": [
              "'/content/sample_data/README.md'"
            ]
          },
          "metadata": {},
          "execution_count": 1
        }
      ]
    },
    {
      "cell_type": "markdown",
      "metadata": {
        "id": "H799EgyUMHwR"
      },
      "source": [
        "Функція ​`os.path.split()` повертає кортеж, який містить 2 елементи, перший                 \n",
        "містить шлях, а другий – ім'я файлу (який буде порожнім рядком якщо ім`я файлу за                             \n",
        "вказаним шляхом не задано)."
      ]
    },
    {
      "cell_type": "code",
      "metadata": {
        "id": "V6ddX37WMRBI",
        "colab": {
          "base_uri": "https://localhost:8080/"
        },
        "outputId": "b9563c59-2cc2-4840-c178-d1cc3abfebd4"
      },
      "source": [
        "os.path.split('/content/sample_data/README.md')"
      ],
      "execution_count": null,
      "outputs": [
        {
          "output_type": "execute_result",
          "data": {
            "text/plain": [
              "('/content/sample_data', 'README.md')"
            ]
          },
          "metadata": {},
          "execution_count": 2
        }
      ]
    },
    {
      "cell_type": "markdown",
      "metadata": {
        "id": "DlsMBo9wMTEO"
      },
      "source": [
        "Ці дві частини можна отримати окремо, за допомогою функцій ​`os.path.dirname()`та `​os.path.basename()` відповідно. "
      ]
    },
    {
      "cell_type": "code",
      "metadata": {
        "id": "L4MJMyfRLq1H",
        "colab": {
          "base_uri": "https://localhost:8080/",
          "height": 36
        },
        "outputId": "a0180799-9f26-4613-8ed0-01ef5221a189"
      },
      "source": [
        "os.path.dirname('/content/sample_data/README.md')"
      ],
      "execution_count": null,
      "outputs": [
        {
          "output_type": "execute_result",
          "data": {
            "application/vnd.google.colaboratory.intrinsic+json": {
              "type": "string"
            },
            "text/plain": [
              "'/content/sample_data'"
            ]
          },
          "metadata": {},
          "execution_count": 3
        }
      ]
    },
    {
      "cell_type": "code",
      "metadata": {
        "colab": {
          "base_uri": "https://localhost:8080/",
          "height": 36
        },
        "id": "oYdm_77YrtgW",
        "outputId": "f564bd97-6a5b-49b2-85fb-576e7c47ef98"
      },
      "source": [
        "os.path.basename('/content/sample_data/README.md')"
      ],
      "execution_count": null,
      "outputs": [
        {
          "output_type": "execute_result",
          "data": {
            "application/vnd.google.colaboratory.intrinsic+json": {
              "type": "string"
            },
            "text/plain": [
              "'README.md'"
            ]
          },
          "metadata": {},
          "execution_count": 4
        }
      ]
    },
    {
      "cell_type": "markdown",
      "metadata": {
        "id": "7bnfxchQMY0t"
      },
      "source": [
        "Імя файлу\n",
        "також може бути розділено на дві частини – ім'я та розширення, з допомогою функції 'os.path.splittext()'."
      ]
    },
    {
      "cell_type": "code",
      "metadata": {
        "id": "cpEL0f58LqqR",
        "colab": {
          "base_uri": "https://localhost:8080/"
        },
        "outputId": "889298e1-6691-4fbe-8bb6-af48fe894b70"
      },
      "source": [
        "os.path.splitext('/content/sample_data/README.md')"
      ],
      "execution_count": null,
      "outputs": [
        {
          "output_type": "execute_result",
          "data": {
            "text/plain": [
              "('/content/sample_data/README', '.md')"
            ]
          },
          "metadata": {},
          "execution_count": 5
        }
      ]
    },
    {
      "cell_type": "code",
      "metadata": {
        "colab": {
          "base_uri": "https://localhost:8080/"
        },
        "id": "n1Qa6S6Xsc97",
        "outputId": "e034b52e-ce99-473d-c068-9988fadacd79"
      },
      "source": [
        "os.path.splitext(os.path.basename('/content/sample_data/README.md'))"
      ],
      "execution_count": null,
      "outputs": [
        {
          "output_type": "execute_result",
          "data": {
            "text/plain": [
              "('README', '.md')"
            ]
          },
          "metadata": {},
          "execution_count": 10
        }
      ]
    },
    {
      "cell_type": "markdown",
      "metadata": {
        "id": "DQRtOmEDMewO"
      },
      "source": [
        " Функція ​`os.path.join()` приймає довільну кількість\n",
        "рядків – шляхів і повертає єдиний шлях, з використанням розділювача каталогів,\n",
        "який залежить від платформи."
      ]
    },
    {
      "cell_type": "code",
      "metadata": {
        "id": "q_BeCUZ_Lqex",
        "colab": {
          "base_uri": "https://localhost:8080/",
          "height": 36
        },
        "outputId": "1f68a2aa-9a9b-4355-cf51-5ef6ff0e152b"
      },
      "source": [
        "os.path.join('/content/sample_data', 'README.md')"
      ],
      "execution_count": null,
      "outputs": [
        {
          "output_type": "execute_result",
          "data": {
            "application/vnd.google.colaboratory.intrinsic+json": {
              "type": "string"
            },
            "text/plain": [
              "'/content/sample_data/README.md'"
            ]
          },
          "metadata": {},
          "execution_count": 6
        }
      ]
    },
    {
      "cell_type": "markdown",
      "metadata": {
        "id": "M_liXTbwt-C9"
      },
      "source": [
        "Якщо необхідно отримати інформацію про файл чи директорію то можна скористатися наступними функціями з модуля ​`os.path`. \n",
        "Імена цих функцій настільки вдалі що не потребують додаткових пояснень й можна перевірити свою інтуїцію виконавши​, наприклад:\n",
        "\n",
        "​`os.path.ехists()`,\n",
        "\n",
        "`os.path.getsize()`,\n",
        "\n",
        "`os.path.isfile()`,\n",
        "\n",
        "`​os.path.isdir()`"
      ]
    },
    {
      "cell_type": "markdown",
      "metadata": {
        "id": "R053SFpgMlNu"
      },
      "source": [
        "Якщо в програмі потрібно отримати комплекс\n",
        "відомостей про файл або каталог, можна використовувати функцію ​`os.stat()`"
      ]
    },
    {
      "cell_type": "code",
      "metadata": {
        "id": "J07XaAHRLqQ5",
        "colab": {
          "base_uri": "https://localhost:8080/"
        },
        "outputId": "b0ea1195-b5b6-44d9-9c58-6759ece4114d"
      },
      "source": [
        "import os\n",
        "os.stat('/content/sample_data/README.md')"
      ],
      "execution_count": 3,
      "outputs": [
        {
          "output_type": "execute_result",
          "data": {
            "text/plain": [
              "os.stat_result(st_mode=33261, st_ino=6291464, st_dev=44, st_nlink=1, st_uid=0, st_gid=0, st_size=930, st_atime=946713600, st_mtime=946713600, st_ctime=1667954341)"
            ]
          },
          "metadata": {},
          "execution_count": 3
        }
      ]
    },
    {
      "cell_type": "markdown",
      "metadata": {
        "id": "JnGFY0jxMstw"
      },
      "source": [
        "Якщо необхідні тільки окремі елементи інформації, можна використовувати відповідні змінні з ​`os.stat()`, наприклад:"
      ]
    },
    {
      "cell_type": "code",
      "metadata": {
        "id": "-oX3fF-CLqBL",
        "colab": {
          "base_uri": "https://localhost:8080/"
        },
        "outputId": "599c6d56-e2cc-49ee-a2bb-d58dec1c8757"
      },
      "source": [
        "os.stat('/content/sample_data/README.md').st_size"
      ],
      "execution_count": null,
      "outputs": [
        {
          "output_type": "execute_result",
          "data": {
            "text/plain": [
              "930"
            ]
          },
          "metadata": {},
          "execution_count": 17
        }
      ]
    },
    {
      "cell_type": "markdown",
      "metadata": {
        "id": "6D3iO9y0Mur7"
      },
      "source": [
        "Розглянемо приклад використання модулів `​os` та `​os.path`​. Нижче показано, як можна використовувати модулі `​os` та `os.path` для створення словника, кожен ключ якого це ім'я файлу (разом з його шляхом), а значення - мітка часу (кількість секунд, які пройшли від початку епохи), коли відбулися останні зміни файлу, для всіх файлів в каталозі `​path`​:"
      ]
    },
    {
      "cell_type": "code",
      "metadata": {
        "id": "MZJsQSMh4zEY",
        "colab": {
          "base_uri": "https://localhost:8080/"
        },
        "outputId": "f44db9b3-6cf9-4ad7-fc72-2d98b859bfbb"
      },
      "source": [
        "path = \"/content/sample_data\"\n",
        "date_from_name = {}\n",
        "\n",
        "for name in os.listdir(path):\n",
        "    fullname = os.path.join(path, name)\n",
        "    if os.path.isfile(fullname):\n",
        "        date_from_name[fullname] = os.path.getmtime(fullname)\n",
        "\n",
        "date_from_name"
      ],
      "execution_count": null,
      "outputs": [
        {
          "output_type": "execute_result",
          "data": {
            "text/plain": [
              "{'/content/sample_data/README.md': 946684800.0,\n",
              " '/content/sample_data/anscombe.json': 946684800.0,\n",
              " '/content/sample_data/california_housing_test.csv': 1633700723.0,\n",
              " '/content/sample_data/california_housing_train.csv': 1633700723.0,\n",
              " '/content/sample_data/mnist_test.csv': 1633700727.0,\n",
              " '/content/sample_data/mnist_train_small.csv': 1633700726.0}"
            ]
          },
          "metadata": {},
          "execution_count": 7
        }
      ]
    },
    {
      "cell_type": "markdown",
      "metadata": {
        "id": "9JXv8GRo5BGg"
      },
      "source": [
        "Цей фрагмент програмного коду доволі зрозумілий, й він використовуватися тільки для створення переліку файлів в одному каталозі."
      ]
    },
    {
      "cell_type": "markdown",
      "metadata": {
        "id": "3GVu8Qwi4wur"
      },
      "source": [
        "##модуль ​shutil\n",
        "Модуль `​shutil` для потреб, пов'язаних з файлами та директоріями, надає інтерфейс більш високого рівня ніж ​`os`​, що спрощує програмування."
      ]
    },
    {
      "cell_type": "markdown",
      "metadata": {
        "id": "-O8C6Ils9I_Q"
      },
      "source": [
        "##модуль ​glob\n",
        "Модуль `​glob` дозволяє вам знайти список файлів й шляхів, що відповідають     заданому шаблону, використовуючи `wildcards`(підстановки). `Wildcard` - це спеціальний символ, який можна використовувати для вибору декількох подібних назв.\n",
        "\n",
        "*   `*`      - будь-які нуль або більше символів\n",
        "*   `?`      - будь-який один символ\n",
        "*   `[abc]`  - будь-який один з символів що вказані у квадратних дужках\n",
        "*   `[!abc]` - будь-який один з символів що не вказаний у квадратних дужках\n",
        "*   `[a-z]`  - будь-який один символ з вказаного у дужках діапазону\n",
        "*   `[!a-z]` - будь-який один символ з який не належить довказаного у дужках діапазону\n",
        "\n",
        "\n",
        "\n",
        "\n",
        "\n",
        "\n"
      ]
    },
    {
      "cell_type": "code",
      "metadata": {
        "colab": {
          "base_uri": "https://localhost:8080/"
        },
        "id": "-YuHUjgb0ieB",
        "outputId": "7e02599f-633d-4848-e26b-df2ba1692377"
      },
      "source": [
        "import glob\n",
        "glob.glob(\"/content/sample_data/*.csv\")"
      ],
      "execution_count": null,
      "outputs": [
        {
          "output_type": "execute_result",
          "data": {
            "text/plain": [
              "['/content/sample_data/california_housing_train.csv',\n",
              " '/content/sample_data/mnist_test.csv',\n",
              " '/content/sample_data/mnist_train_small.csv',\n",
              " '/content/sample_data/california_housing_test.csv']"
            ]
          },
          "metadata": {},
          "execution_count": 30
        }
      ]
    },
    {
      "cell_type": "markdown",
      "metadata": {
        "id": "CMB2dxNX4DVm"
      },
      "source": [
        "##модуль ​filecmp\n",
        "Модуль `​filecmp` може використовуватися для порівняння файлів з допомогою функції ​`filecmp.cmp()` та цілих каталогів - з допомогою функції       `filecmp.cmpfiles()`​."
      ]
    },
    {
      "cell_type": "code",
      "metadata": {
        "colab": {
          "base_uri": "https://localhost:8080/"
        },
        "id": "2_XBUilH04vn",
        "outputId": "b828626e-04a7-4caa-9990-898251839a96"
      },
      "source": [
        "import filecmp\n",
        "\n",
        "filecmp.cmp('/content/sample_data/mnist_test.csv', '/content/sample_data/mnist_train_small.csv')"
      ],
      "execution_count": null,
      "outputs": [
        {
          "output_type": "execute_result",
          "data": {
            "text/plain": [
              "False"
            ]
          },
          "metadata": {},
          "execution_count": 8
        }
      ]
    },
    {
      "cell_type": "code",
      "metadata": {
        "colab": {
          "base_uri": "https://localhost:8080/"
        },
        "id": "iYIAOt7G1N1T",
        "outputId": "3ea6b4aa-beec-46b4-f5b2-e9bd36258cde"
      },
      "source": [
        "filecmp.cmp('/content/sample_data/mnist_test.csv', '/content/sample_data/mnist_test.csv')"
      ],
      "execution_count": null,
      "outputs": [
        {
          "output_type": "execute_result",
          "data": {
            "text/plain": [
              "True"
            ]
          },
          "metadata": {},
          "execution_count": 9
        }
      ]
    },
    {
      "cell_type": "markdown",
      "metadata": {
        "id": "4C0agS2H5eNo"
      },
      "source": [
        "##модуль fnmach\n",
        "Модуль `fnmatch` дозволяє порівнювати імена файлів за шаблонами.\n",
        "Шаблони будують на основі \"wildcards\"(підстановок), які вже згадувались вищею\n",
        "fnmatch.\n",
        "Наприклад, функція `fnmatch(filename, pattern)` дозволяє перевірити відповідність між рядком `filename` та рядком шаблоном `pattern`, й повертає `True`, якщо відповідність справджується.\n",
        "\n"
      ]
    },
    {
      "cell_type": "code",
      "metadata": {
        "colab": {
          "base_uri": "https://localhost:8080/"
        },
        "id": "DfnY0mwF5zmX",
        "outputId": "3e5b7169-6b90-49e4-bb8a-8ad24d653f24"
      },
      "source": [
        "import fnmatch, os\n",
        "\n",
        "for file in os.listdir('/content/sample_data'):\n",
        "    if fnmatch.fnmatch(file, '*.csv'):\n",
        "        print(file)"
      ],
      "execution_count": null,
      "outputs": [
        {
          "output_type": "stream",
          "name": "stdout",
          "text": [
            "california_housing_train.csv\n",
            "mnist_test.csv\n",
            "mnist_train_small.csv\n",
            "california_housing_test.csv\n"
          ]
        }
      ]
    },
    {
      "cell_type": "markdown",
      "metadata": {
        "id": "ReHj202x87Up"
      },
      "source": [
        "##модуль ​zipfile\n",
        "Модуль ​`zipfile` ​надає інструменти для роботи з zip-файлами. Він дозволяє    створювати, читати, записувати в zip-файли."
      ]
    },
    {
      "cell_type": "markdown",
      "metadata": {
        "id": "My9GqPsl52Vh"
      },
      "source": [
        "##Робота з датами та часом\n",
        "Для роботи з датами та часом можна використовувати наступні модулі:"
      ]
    },
    {
      "cell_type": "markdown",
      "metadata": {
        "id": "b2U0phmw6qxP"
      },
      "source": [
        "##модуль ​calendar\n",
        "Модуль ​`calendar` дозволяє працювати з календарем. Серед функцій модуля                 \n",
        "`calendar`​ можна виділити:\n",
        "\n",
        "`calendar.setfirstweekday(weekday)` - ​встановлює перший день тижня (0 -               \n",
        "понеділок, 1 – вівторок, ... 6 - неділя). Ці значення визначені у змінних `calendar.MONDAY`, `calendar.TUESDAY`, `calendar.WEDNESDAY`,     \n",
        "`calendar.THURSDAY`, `calendar.FRIDAY`, `calendar.SATURDAY` та       \n",
        "`calendar.SUNDAY`​.\n",
        "\n",
        "`calendar.firstweekday()`​ – ​повертає перший день тижня.  \n",
        "\n",
        "`calendar.isleap(year)` – ​повертає булеве значення, яке дозволяє встановити   \n",
        "чи рік є високосним​\n",
        "\n",
        "`calendar.leapdays(y1, y2)`​ – ​кількість високосних років від y1 до y2.\n",
        "\n",
        "`calendar.weekday(year, month, day)`​ - ​день тижня для вказаної дати.\n",
        "\n",
        "`calendar.monthrange(year, month)` - ​день тижня першого дня місяця та          \n",
        "кількість днів у цьому місяці.\n",
        "\n",
        "`calendar.monthcalendar(year, month)` – ​повертає представлення календаря       \n",
        "одного місяця у вигляді списку тижнів. "
      ]
    },
    {
      "cell_type": "markdown",
      "metadata": {
        "id": "xuriJscC65LP"
      },
      "source": [
        "##модуль ​datetime\n",
        "Модуль `​datetime` ​містить засоби для роботи з даними, що представляють час та дату, як у складний так і в простий спосіб. Він придатний і для арифметики часових даних, хоча основна увага приділяється ефективному добуванню даних для форматування та їхньої обробки. Модуль також має об'єкти, що дозволяють працювати з різними часовими зонами. "
      ]
    },
    {
      "cell_type": "markdown",
      "metadata": {
        "id": "tw06uN8v8hre"
      },
      "source": [
        "Створення та форматування чисел дуже просте"
      ]
    },
    {
      "cell_type": "code",
      "metadata": {
        "id": "7UpsukHI76dr",
        "colab": {
          "base_uri": "https://localhost:8080/"
        },
        "outputId": "1a113836-1d6a-4afc-8111-61ba7531bc55"
      },
      "source": [
        "from datetime import date, timedelta\n",
        "now = date.today()\n",
        "now"
      ],
      "execution_count": null,
      "outputs": [
        {
          "output_type": "execute_result",
          "data": {
            "text/plain": [
              "datetime.date(2021, 10, 27)"
            ]
          },
          "metadata": {},
          "execution_count": 10
        }
      ]
    },
    {
      "cell_type": "code",
      "metadata": {
        "colab": {
          "base_uri": "https://localhost:8080/",
          "height": 36
        },
        "id": "uhJmR_R09KsH",
        "outputId": "360484ba-228b-4305-c564-dc8667affaf6"
      },
      "source": [
        "now.strftime(\"%m-%d-%y or %d %b %Y is a %A on the %d day of %B\")"
      ],
      "execution_count": null,
      "outputs": [
        {
          "output_type": "execute_result",
          "data": {
            "application/vnd.google.colaboratory.intrinsic+json": {
              "type": "string"
            },
            "text/plain": [
              "'10-27-21 or 27 Oct 2021 is a Wednesday on the 27 day of October'"
            ]
          },
          "metadata": {},
          "execution_count": 11
        }
      ]
    },
    {
      "cell_type": "markdown",
      "metadata": {
        "id": "TmqXlLn79CpO"
      },
      "source": [
        "Часові дані придатні й для застосування календарної арифметики"
      ]
    },
    {
      "cell_type": "code",
      "metadata": {
        "colab": {
          "base_uri": "https://localhost:8080/"
        },
        "id": "vrJhMArF9DYF",
        "outputId": "30a9bfca-be38-4827-ee7a-6a79a1d74441"
      },
      "source": [
        "birthday = date(1977, 7, 17)\n",
        "age = now - birthday\n",
        "age.days\n",
        "\n"
      ],
      "execution_count": null,
      "outputs": [
        {
          "output_type": "execute_result",
          "data": {
            "text/plain": [
              "16173"
            ]
          },
          "metadata": {},
          "execution_count": 12
        }
      ]
    },
    {
      "cell_type": "code",
      "metadata": {
        "colab": {
          "base_uri": "https://localhost:8080/"
        },
        "id": "gzsaCF_nBucA",
        "outputId": "cee770ad-a567-48fc-a986-0ef0d8d80de2"
      },
      "source": [
        "now + timedelta(days=365)"
      ],
      "execution_count": null,
      "outputs": [
        {
          "output_type": "execute_result",
          "data": {
            "text/plain": [
              "datetime.date(2022, 10, 27)"
            ]
          },
          "metadata": {},
          "execution_count": 13
        }
      ]
    },
    {
      "cell_type": "markdown",
      "metadata": {
        "id": "lpqYMNg778HS"
      },
      "source": [
        "Модулі `​calendar` та `​datetime` містять функції та класи, призначені для роботи з датами та часом. Оскільки вони ґрунтуються на Григоріанському календарі, то для роботи з датами в інших календарях ці модулі не допоможуть."
      ]
    },
    {
      "cell_type": "markdown",
      "metadata": {
        "id": "IpGLC2QO8Gmj"
      },
      "source": [
        "##модуль ​time\n",
        "Модуль ​`time` використовується для роботи з мітками часу, які є простими числовими значеннями що відповідають кількості секунд, які пройшли від початку комп`ютерної епохи (1970-01-01Т00:00:00 в UNIX). \n",
        "За допомогою цього модуля можна отримати мітку поточного часу UTC (Coordinated Universal Time - універсальний глобальний час) або локального часу з урахуванням переходу на літній час, а також для створення рядків, які представляють дату, час й дату/час, в різноманітних форматах (форматовано різними способами). Також цей модуль можна використовувати для аналізу рядків, які містять дату та час."
      ]
    },
    {
      "cell_type": "markdown",
      "metadata": {
        "id": "amr63E0s8SRq"
      },
      "source": [
        "Розглянемо приклад використання модулів `​calendar`​, `​datetime` та `​time`​. Об\\`єкти    типу `​datetime.datetime` зазвичай створюються програмним способом, а об`єкти, які зберігають дату/час, отримують інформацію із зовнішніх джерел. Наприклад, проміжок часу від створення файла."
      ]
    },
    {
      "cell_type": "code",
      "metadata": {
        "id": "j5fVH1at8Z7s",
        "colab": {
          "base_uri": "https://localhost:8080/"
        },
        "outputId": "1c2f473d-3d28-499f-fc86-85da6b2531f1"
      },
      "source": [
        "import calendar, datetime, time\n",
        "\n",
        "moon_datetime_a = datetime.datetime(1991, 8, 24, 18, 00, 00)\n",
        "moon_datetime_a"
      ],
      "execution_count": 5,
      "outputs": [
        {
          "output_type": "stream",
          "name": "stdout",
          "text": [
            "1991-08-24 18:00:00\n"
          ]
        }
      ]
    },
    {
      "cell_type": "markdown",
      "metadata": {
        "id": "tY3AoyzxC36m"
      },
      "source": [
        "Змінна `​moon_datetime_a` є об\\'єктом типу `​datetime.datetime` й зберігає дату та час проголошення Акту про незалежність України."
      ]
    },
    {
      "cell_type": "code",
      "metadata": {
        "colab": {
          "base_uri": "https://localhost:8080/"
        },
        "id": "WyUEOsdeCxMz",
        "outputId": "fbf7265f-ad46-484f-ce98-3953f0357894"
      },
      "source": [
        "moon_time = calendar.timegm(moon_datetime_a.utctimetuple())\n",
        "moon_time"
      ],
      "execution_count": null,
      "outputs": [
        {
          "output_type": "execute_result",
          "data": {
            "text/plain": [
              "683056800"
            ]
          },
          "metadata": {},
          "execution_count": 64
        }
      ]
    },
    {
      "cell_type": "markdown",
      "metadata": {
        "id": "cgGFZG9sC402"
      },
      "source": [
        "Змінна `​moon_time` це змінна типу `int` і вона зберігає кількість секунд, які пройшли з початку епохи до незалежності України. Це число повертає функція ​`calendar.timegm()`, яка приймає об'єкт типу `time_struct`​, який повертає функція `​datetime.datetime.utctimetuple()`. В операційній системі `Windows` функція ​`datetime.datetime.utcfromtimestamp` не працюватиме з від'ємними значеннями аргументу."
      ]
    },
    {
      "cell_type": "code",
      "metadata": {
        "colab": {
          "base_uri": "https://localhost:8080/"
        },
        "id": "Oy1k4aObCxBU",
        "outputId": "fdce1585-8256-4a51-ab87-17b283e6cb85"
      },
      "source": [
        "moon_datetime_b = datetime.datetime.utcfromtimestamp(moon_time)\n",
        "moon_datetime_b"
      ],
      "execution_count": null,
      "outputs": [
        {
          "output_type": "execute_result",
          "data": {
            "text/plain": [
              "datetime.datetime(1991, 8, 24, 18, 0)"
            ]
          },
          "metadata": {},
          "execution_count": 66
        }
      ]
    },
    {
      "cell_type": "markdown",
      "metadata": {
        "id": "GN9gk1Y98hGR"
      },
      "source": [
        "Змінна ​`moon_datetime_b` це об’єкт типу `​datetime.datetime`​, а її значення отримано з '​moon_time'​, для демонстрації можливості перетворення кількості секунд, які пройшли від початку епохи в об'єкт типу `​datetime.datetime`​. "
      ]
    },
    {
      "cell_type": "markdown",
      "metadata": {
        "id": "sZq9nTL2Dw46"
      },
      "source": [
        "Наступні три рядки виводять на екран однакові рядки, які містять дату в форматі ISO8601."
      ]
    },
    {
      "cell_type": "code",
      "metadata": {
        "colab": {
          "base_uri": "https://localhost:8080/",
          "height": 36
        },
        "id": "L3oYEcfjDnDi",
        "outputId": "9b4cb45c-35c6-4d35-bf37-6599607d1ecd"
      },
      "source": [
        "moon_datetime_a.isoformat() \n",
        "moon_datetime_b.isoformat() \n",
        "time.strftime(\"%Y-%m-%dT%H:%M:%S\", time.gmtime(moon_time))"
      ],
      "execution_count": null,
      "outputs": [
        {
          "output_type": "execute_result",
          "data": {
            "application/vnd.google.colaboratory.intrinsic+json": {
              "type": "string"
            },
            "text/plain": [
              "'1991-08-24T18:00:00'"
            ]
          },
          "metadata": {},
          "execution_count": 69
        }
      ]
    },
    {
      "cell_type": "markdown",
      "metadata": {
        "id": "-tL0_8tAGIPm"
      },
      "source": [
        "Поточну дату/час UTC можна отримати, як об\\`єкт `​datetime.datetime`​, за допомогою виклику функції `datetime.datetime.utcnow()`, а як кількість секунд за допомогою виклику функції `time.time()`. Для отримання локальних дата/час можна використовувати `datetime.datetime.now()`​ або `​time.mktime(time.localtime())`."
      ]
    },
    {
      "cell_type": "markdown",
      "metadata": {
        "id": "s6IeGvnP8qdj"
      },
      "source": [
        "##модуль ​timeit \n",
        "Модуль `​timeit` дозволяє оцінити продуктивність різних підходів до вирішення певної проблеми. Такою оцінкою буде швидкість виконання програми, функції чи фрагменту коду. \n",
        "Наприклад, можна оцінити два способи обміну значень двох змінних. Один спосіб традиційний з використанням додаткової змінної, а інший з використанням одночасного присвоювання. Модуль `​timeit` ​дозволяє встановити, що   час виконання приблизно однаковий."
      ]
    },
    {
      "cell_type": "code",
      "metadata": {
        "colab": {
          "base_uri": "https://localhost:8080/"
        },
        "id": "gIfcsDcKV0IC",
        "outputId": "fb329bca-fa32-4014-8683-ce178554af5d"
      },
      "source": [
        "from timeit import Timer\n",
        "Timer('t = a; a = b; b = t', 'a = 11; b = 22').timeit()"
      ],
      "execution_count": null,
      "outputs": [
        {
          "output_type": "execute_result",
          "data": {
            "text/plain": [
              "0.044739580000168644"
            ]
          },
          "metadata": {},
          "execution_count": 20
        }
      ]
    },
    {
      "cell_type": "code",
      "metadata": {
        "colab": {
          "base_uri": "https://localhost:8080/"
        },
        "id": "mKEGQ5YRWnaP",
        "outputId": "0c723ee7-1bb9-46fa-a762-2068ff92a780"
      },
      "source": [
        "Timer('a, b = b, a', 'a = 11; b = 22').timeit()"
      ],
      "execution_count": null,
      "outputs": [
        {
          "output_type": "execute_result",
          "data": {
            "text/plain": [
              "0.040664655000000494"
            ]
          },
          "metadata": {},
          "execution_count": 19
        }
      ]
    },
    {
      "cell_type": "markdown",
      "metadata": {
        "id": "Q-ofLd-iYwzZ"
      },
      "source": [
        "##Інші модулі\n",
        "В стандартній бібліотеці сотні модулів. Одні з них доволі складні та великі за обсягом, інші простіші та прості у використанні."
      ]
    },
    {
      "cell_type": "markdown",
      "metadata": {
        "id": "UI99wmue8YGR"
      },
      "source": [
        "##модуль pprint\n",
        "Модуль `pprint` дозволяє вивводити на екран складні об'єкти (структури даних Python) в зручному для сприйняття вигляді.\n",
        "Наприклад функція `pprint.pprint()` дозволяє виводити у `sys.stdout` відформатоване представлення об\\'єкта. Параметри функції `indent`, `width`, `depth`, `compact`, `sort_dicts` та 'underscore_numbers' використовуються як  параметри форматування. "
      ]
    },
    {
      "cell_type": "code",
      "metadata": {
        "colab": {
          "base_uri": "https://localhost:8080/"
        },
        "id": "mWH7pwbcNtOB",
        "outputId": "8391dd7e-89bc-4156-9e1e-69d6894f9b54"
      },
      "source": [
        "import pprint\n",
        "\n",
        "stuff = ['spam', 'eggs', 'lumberjack', 'knights', 'ni']\n",
        "\n",
        "stuff.insert(0, stuff[:])\n",
        "pprint.pprint(stuff, indent=4)\n",
        "\n",
        "pprint.pprint(stuff, width=41, compact=True)\n",
        "\n",
        "tup = ('spam', ('eggs', ('lumberjack', ('knights', ('ni', ('dead', ('parrot', ('fresh fruit',))))))))\n",
        "pprint.pprint(tup)\n",
        "\n",
        "pprint.pprint(date_from_name)"
      ],
      "execution_count": null,
      "outputs": [
        {
          "output_type": "stream",
          "name": "stdout",
          "text": [
            "[   ['spam', 'eggs', 'lumberjack', 'knights', 'ni'],\n",
            "    'spam',\n",
            "    'eggs',\n",
            "    'lumberjack',\n",
            "    'knights',\n",
            "    'ni']\n",
            "[['spam', 'eggs', 'lumberjack',\n",
            "  'knights', 'ni'],\n",
            " 'spam', 'eggs', 'lumberjack', 'knights',\n",
            " 'ni']\n",
            "('spam',\n",
            " ('eggs',\n",
            "  ('lumberjack', ('knights', ('ni', ('dead', ('parrot', ('fresh fruit',))))))))\n",
            "{'/content/sample_data/README.md': 946684800.0,\n",
            " '/content/sample_data/anscombe.json': 946684800.0,\n",
            " '/content/sample_data/california_housing_test.csv': 1633700723.0,\n",
            " '/content/sample_data/california_housing_train.csv': 1633700723.0,\n",
            " '/content/sample_data/mnist_test.csv': 1633700727.0,\n",
            " '/content/sample_data/mnist_train_small.csv': 1633700726.0}\n"
          ]
        }
      ]
    },
    {
      "cell_type": "markdown",
      "metadata": {
        "id": "X-9D9-zz9hFg"
      },
      "source": [
        "##модуль platform\n",
        "Модуль `platform` забезпечує доступ до ідентифікаційних даних базової платформи (обчислювальної системи, комп\\'ютера).\n",
        "Спробуйте виконати та пояснити:\n"
      ]
    },
    {
      "cell_type": "code",
      "metadata": {
        "id": "f-9V_45Gx5eD",
        "colab": {
          "base_uri": "https://localhost:8080/"
        },
        "outputId": "1f32cdc7-d364-472c-af9b-44f43f45098c"
      },
      "source": [
        "import platform\n",
        "pprint.pprint([\n",
        "platform.architecture(),\n",
        "platform.machine(),\n",
        "platform.node(),\n",
        "platform.platform(aliased=0, terse=0),\n",
        "platform.processor(),\n",
        "platform.python_build(),\n",
        "platform.python_compiler(),\n",
        "platform.python_branch(),\n",
        "platform.python_implementation(),\n",
        "platform.python_revision(),\n",
        "platform.python_version(),\n",
        "platform.python_version_tuple(),\n",
        "platform.release(),\n",
        "platform.system(),\n",
        "platform.version(),\n",
        "platform.system_alias(platform.system(), platform.release(), platform.version() ),\n",
        "platform.uname()])"
      ],
      "execution_count": null,
      "outputs": [
        {
          "output_type": "stream",
          "name": "stdout",
          "text": [
            "[('64bit', ''),\n",
            " 'x86_64',\n",
            " 'afd9cc7b494b',\n",
            " 'Linux-5.4.104+-x86_64-with-Ubuntu-18.04-bionic',\n",
            " 'x86_64',\n",
            " ('default', 'Sep 10 2021 00:21:48'),\n",
            " 'GCC 7.5.0',\n",
            " '',\n",
            " 'CPython',\n",
            " '',\n",
            " '3.7.12',\n",
            " ('3', '7', '12'),\n",
            " '5.4.104+',\n",
            " 'Linux',\n",
            " '#1 SMP Sat Jun 5 09:50:34 PDT 2021',\n",
            " ('Linux', '5.4.104+', '#1 SMP Sat Jun 5 09:50:34 PDT 2021'),\n",
            " uname_result(system='Linux', node='afd9cc7b494b', release='5.4.104+', version='#1 SMP Sat Jun 5 09:50:34 PDT 2021', machine='x86_64', processor='x86_64')]\n"
          ]
        }
      ]
    }
  ]
}