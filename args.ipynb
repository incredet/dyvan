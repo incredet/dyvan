{
  "nbformat": 4,
  "nbformat_minor": 0,
  "metadata": {
    "colab": {
      "provenance": [],
      "collapsed_sections": [],
      "include_colab_link": true
    },
    "kernelspec": {
      "name": "python3",
      "display_name": "Python 3"
    },
    "language_info": {
      "name": "python"
    }
  },
  "cells": [
    {
      "cell_type": "markdown",
      "metadata": {
        "id": "view-in-github",
        "colab_type": "text"
      },
      "source": [
        "<a href=\"https://colab.research.google.com/github/incredet/dyvan/blob/main/args.ipynb\" target=\"_parent\"><img src=\"https://colab.research.google.com/assets/colab-badge.svg\" alt=\"Open In Colab\"/></a>"
      ]
    },
    {
      "cell_type": "markdown",
      "metadata": {
        "id": "r7P4Wm0Hb9bT"
      },
      "source": [
        "# Інтерфейс командного рядка"
      ]
    },
    {
      "cell_type": "markdown",
      "metadata": {
        "id": "zWH8yyYXwPzi"
      },
      "source": [
        "Інтерфейс командного рядка дозволяє користувачеві за допомогою команд в текстовому режимі взаємодіяти з операційною системою та іншими програмами.\n",
        "Інтерфейс командного рядка доступний користувачу після запуску програми `bash`, `cmd` та подібних.\n",
        "Взаємодія грунтується на використанні наступних елементів:\n",
        "* команд або програм\n",
        "* аргументів командного рядка (можуть бути відсутні)\n",
        "* представлення результатів виконання\n",
        "* системи допомоги (доступ до документації)\n",
        "\n",
        "В різних програмах що надають інтерфейс командного рядка, цей перелік може відрізнятися.\n"
      ]
    },
    {
      "cell_type": "markdown",
      "metadata": {
        "id": "o4nFyazDz9sO"
      },
      "source": [
        "В наступному прикладі використовуєтся назва програми - інтерпретатор Python та параметр (option) `-с`, який вказує інтерпретатору виконати вказаний після параметру аргумент (argument) як Python програму"
      ]
    },
    {
      "cell_type": "code",
      "metadata": {
        "colab": {
          "base_uri": "https://localhost:8080/"
        },
        "id": "YBRcIiDB0zkO",
        "outputId": "8ce7ab47-9c46-42f4-d6fe-fed7dbf6e92b"
      },
      "source": [
        "!python -c \"print('APPS UCU')\""
      ],
      "execution_count": null,
      "outputs": [
        {
          "output_type": "stream",
          "name": "stdout",
          "text": [
            "APPS UCU\n"
          ]
        }
      ]
    },
    {
      "cell_type": "markdown",
      "metadata": {
        "id": "MdpMxCJd1S2k"
      },
      "source": [
        "Наступний приклад демострує використання окремого параметру `-h`, що дозволить ознайомитися з повним переліком параметрів. "
      ]
    },
    {
      "cell_type": "code",
      "metadata": {
        "colab": {
          "base_uri": "https://localhost:8080/"
        },
        "id": "zX5vnYTI1pgZ",
        "outputId": "c69ec4c9-9ad3-4060-d007-1c728d225751"
      },
      "source": [
        "!python -h"
      ],
      "execution_count": null,
      "outputs": [
        {
          "output_type": "stream",
          "name": "stdout",
          "text": [
            "usage: python3 [option] ... [-c cmd | -m mod | file | -] [arg] ...\n",
            "Options and arguments (and corresponding environment variables):\n",
            "-b     : issue warnings about str(bytes_instance), str(bytearray_instance)\n",
            "         and comparing bytes/bytearray with str. (-bb: issue errors)\n",
            "-B     : don't write .pyc files on import; also PYTHONDONTWRITEBYTECODE=x\n",
            "-c cmd : program passed in as string (terminates option list)\n",
            "-d     : debug output from parser; also PYTHONDEBUG=x\n",
            "-E     : ignore PYTHON* environment variables (such as PYTHONPATH)\n",
            "-h     : print this help message and exit (also --help)\n",
            "-i     : inspect interactively after running script; forces a prompt even\n",
            "         if stdin does not appear to be a terminal; also PYTHONINSPECT=x\n",
            "-I     : isolate Python from the user's environment (implies -E and -s)\n",
            "-m mod : run library module as a script (terminates option list)\n",
            "-O     : remove assert and __debug__-dependent statements; add .opt-1 before\n",
            "         .pyc extension; also PYTHONOPTIMIZE=x\n",
            "-OO    : do -O changes and also discard docstrings; add .opt-2 before\n",
            "         .pyc extension\n",
            "-q     : don't print version and copyright messages on interactive startup\n",
            "-s     : don't add user site directory to sys.path; also PYTHONNOUSERSITE\n",
            "-S     : don't imply 'import site' on initialization\n",
            "-u     : force the stdout and stderr streams to be unbuffered;\n",
            "         this option has no effect on stdin; also PYTHONUNBUFFERED=x\n",
            "-v     : verbose (trace import statements); also PYTHONVERBOSE=x\n",
            "         can be supplied multiple times to increase verbosity\n",
            "-V     : print the Python version number and exit (also --version)\n",
            "         when given twice, print more information about the build\n",
            "-W arg : warning control; arg is action:message:category:module:lineno\n",
            "         also PYTHONWARNINGS=arg\n",
            "-x     : skip first line of source, allowing use of non-Unix forms of #!cmd\n",
            "-X opt : set implementation-specific option. The following options are available:\n",
            "\n",
            "         -X faulthandler: enable faulthandler\n",
            "         -X showrefcount: output the total reference count and number of used\n",
            "             memory blocks when the program finishes or after each statement in the\n",
            "             interactive interpreter. This only works on debug builds\n",
            "         -X tracemalloc: start tracing Python memory allocations using the\n",
            "             tracemalloc module. By default, only the most recent frame is stored in a\n",
            "             traceback of a trace. Use -X tracemalloc=NFRAME to start tracing with a\n",
            "             traceback limit of NFRAME frames\n",
            "         -X showalloccount: output the total count of allocated objects for each\n",
            "             type when the program finishes. This only works when Python was built with\n",
            "             COUNT_ALLOCS defined\n",
            "         -X importtime: show how long each import takes. It shows module name,\n",
            "             cumulative time (including nested imports) and self time (excluding\n",
            "             nested imports). Note that its output may be broken in multi-threaded\n",
            "             application. Typical usage is python3 -X importtime -c 'import asyncio'\n",
            "         -X dev: enable CPython’s “development mode”, introducing additional runtime\n",
            "             checks which are too expensive to be enabled by default. Effect of the\n",
            "             developer mode:\n",
            "                * Add default warning filter, as -W default\n",
            "                * Install debug hooks on memory allocators: see the PyMem_SetupDebugHooks() C function\n",
            "                * Enable the faulthandler module to dump the Python traceback on a crash\n",
            "                * Enable asyncio debug mode\n",
            "                * Set the dev_mode attribute of sys.flags to True\n",
            "         -X utf8: enable UTF-8 mode for operating system interfaces, overriding the default\n",
            "             locale-aware mode. -X utf8=0 explicitly disables UTF-8 mode (even when it would\n",
            "             otherwise activate automatically)\n",
            "\n",
            "--check-hash-based-pycs always|default|never:\n",
            "    control how Python invalidates hash-based .pyc files\n",
            "file   : program read from script file\n",
            "-      : program read from stdin (default; interactive mode if a tty)\n",
            "arg ...: arguments passed to program in sys.argv[1:]\n",
            "\n",
            "Other environment variables:\n",
            "PYTHONSTARTUP: file executed on interactive startup (no default)\n",
            "PYTHONPATH   : ':'-separated list of directories prefixed to the\n",
            "               default module search path.  The result is sys.path.\n",
            "PYTHONHOME   : alternate <prefix> directory (or <prefix>:<exec_prefix>).\n",
            "               The default module search path uses <prefix>/lib/pythonX.X.\n",
            "PYTHONCASEOK : ignore case in 'import' statements (Windows).\n",
            "PYTHONUTF8: if set to 1, enable the UTF-8 mode.\n",
            "PYTHONIOENCODING: Encoding[:errors] used for stdin/stdout/stderr.\n",
            "PYTHONFAULTHANDLER: dump the Python traceback on fatal errors.\n",
            "PYTHONHASHSEED: if this variable is set to 'random', a random value is used\n",
            "   to seed the hashes of str, bytes and datetime objects.  It can also be\n",
            "   set to an integer in the range [0,4294967295] to get hash values with a\n",
            "   predictable seed.\n",
            "PYTHONMALLOC: set the Python memory allocators and/or install debug hooks\n",
            "   on Python memory allocators. Use PYTHONMALLOC=debug to install debug\n",
            "   hooks.\n",
            "PYTHONCOERCECLOCALE: if this variable is set to 0, it disables the locale\n",
            "   coercion behavior. Use PYTHONCOERCECLOCALE=warn to request display of\n",
            "   locale coercion and locale compatibility warnings on stderr.\n",
            "PYTHONBREAKPOINT: if this variable is set to 0, it disables the default\n",
            "   debugger. It can be set to the callable of your debugger of choice.\n",
            "PYTHONDEVMODE: enable the development mode.\n"
          ]
        }
      ]
    },
    {
      "cell_type": "markdown",
      "metadata": {
        "id": "tZK0luMtcKKR"
      },
      "source": [
        "# Список sys.argv"
      ]
    },
    {
      "cell_type": "markdown",
      "metadata": {
        "id": "Tt2mjGKq4YRz"
      },
      "source": [
        "Для наступних пояснень підготовано програму `main.py`. Текст програми наступний й його потрібно зберегти у файлі `main.py` в оремій теці."
      ]
    },
    {
      "cell_type": "code",
      "metadata": {
        "id": "wwKL-yVc5Ry4"
      },
      "source": [
        "# main.py\n",
        "\n",
        "import sys\n",
        "\n",
        "if __name__ == \"__main__\":\n",
        "    print(f\"Arguments count: {len(sys.argv)}\")\n",
        "    for i, arg in enumerate(sys.argv):\n",
        "        print(f\"Argument {i:>6}: {arg}\")"
      ],
      "execution_count": null,
      "outputs": []
    },
    {
      "cell_type": "code",
      "metadata": {
        "id": "JECOE7OK3U1A"
      },
      "source": [
        "from google.colab import drive\n",
        "drive.mount('/content/drive')"
      ],
      "execution_count": null,
      "outputs": []
    },
    {
      "cell_type": "markdown",
      "metadata": {
        "id": "oZztyEq45cs9"
      },
      "source": [
        "Для виконання цієї програми потрібно перемістися у відповідну теку та виконати запуск з командного рядка."
      ]
    },
    {
      "cell_type": "code",
      "metadata": {
        "colab": {
          "base_uri": "https://localhost:8080/"
        },
        "id": "21eXBDYA2Sln",
        "outputId": "38466f81-02eb-4633-9cc6-e80c2e6537ef"
      },
      "source": [
        "%cd temp\n",
        "!python main.py"
      ],
      "execution_count": null,
      "outputs": [
        {
          "output_type": "stream",
          "name": "stdout",
          "text": [
            "/content/temp\n",
            "Arguments count: 1\n",
            "Argument      0: main.py\n"
          ]
        }
      ]
    },
    {
      "cell_type": "markdown",
      "metadata": {
        "id": "M_XMYlvw5uzd"
      },
      "source": [
        "Якщо додати після імені програми декілька рядків то можна побачити, що програма змінила свою поведінку й виведено не тільки ім'я програми але й всі рядки, які були вказані при запуску.  "
      ]
    },
    {
      "cell_type": "code",
      "metadata": {
        "colab": {
          "base_uri": "https://localhost:8080/"
        },
        "id": "LOvJsp0G32i8",
        "outputId": "a31ff190-11eb-41e5-94f0-1fb1f0090e3e"
      },
      "source": [
        "!python main.py APPP UCU 2021"
      ],
      "execution_count": null,
      "outputs": [
        {
          "output_type": "stream",
          "name": "stdout",
          "text": [
            "Arguments count: 4\n",
            "Argument      0: main.py\n",
            "Argument      1: APPP\n",
            "Argument      2: UCU\n",
            "Argument      3: 2021\n"
          ]
        }
      ]
    },
    {
      "cell_type": "markdown",
      "metadata": {
        "id": "-m_Q3jJ16eDP"
      },
      "source": [
        "Якщо переглянути код в `main.py`, то потрібно звернути увагу на форматований вивід та на використання атрибуту `sys.argv` модуля `sys`.  "
      ]
    },
    {
      "cell_type": "markdown",
      "metadata": {
        "id": "NH2v2KoA7qQw"
      },
      "source": [
        "Атрибут sys.argv забезпечує базову пітримку для роботи з аргументами командного рядка в Python. За допомогою цього атрибуту можна:\n",
        "* отримати доступ до атрибутів (вмісту sys.argv)\n",
        "* використовувати sys.argv як глобальну змінну\n",
        "Також при роботі з атрибутами потрібно вміти:\n",
        "* обробляти пробіли в аргументах командного рядка Python\n",
        "* обробляти помилки під час доступу до аргументів командного рядка Python\n"
      ]
    },
    {
      "cell_type": "markdown",
      "metadata": {
        "id": "rXOcHXZw9nF0"
      },
      "source": [
        "##Доступ до аргументів"
      ]
    },
    {
      "cell_type": "markdown",
      "metadata": {
        "id": "3DBvm2VCBF3n"
      },
      "source": [
        "Список(масив) `argv` модуля `sys` містить:\n",
        "- `argv[0]` ім'я Python програми, що виконується\n",
        "- `argv[1:]` всі інші аргументи, що передаються програмі\n",
        "\n",
        "Наступна програма `argv.py` це демонструє "
      ]
    },
    {
      "cell_type": "code",
      "metadata": {
        "id": "xL1i6Vy-CiYZ"
      },
      "source": [
        "# argv.py\n",
        "\n",
        "import sys\n",
        "\n",
        "\n",
        "print(f\"Name of the script      : {sys.argv[0]=}\")\n",
        "\n",
        "print(f\"Arguments of the script : {sys.argv[1:]=}\")"
      ],
      "execution_count": null,
      "outputs": []
    },
    {
      "cell_type": "code",
      "metadata": {
        "colab": {
          "base_uri": "https://localhost:8080/"
        },
        "id": "cHEGZ-CZ5wI-",
        "outputId": "443eb67b-0de5-46be-cc2f-921e5dfd0d62"
      },
      "source": [
        "!pwd"
      ],
      "execution_count": null,
      "outputs": [
        {
          "output_type": "stream",
          "name": "stdout",
          "text": [
            "/content\n"
          ]
        }
      ]
    },
    {
      "cell_type": "code",
      "metadata": {
        "id": "sDrzi702C49I",
        "colab": {
          "base_uri": "https://localhost:8080/"
        },
        "outputId": "c89cc921-e622-4d08-fab5-20017ca587b2"
      },
      "source": [
        "%cd temp\n",
        "!python argv.py APPS UCU 2021"
      ],
      "execution_count": null,
      "outputs": [
        {
          "output_type": "stream",
          "name": "stdout",
          "text": [
            "[Errno 2] No such file or directory: 'temp'\n",
            "/content/temp\n",
            "Name of the script      : argv.py\n",
            "Arguments of the script : ['APPS', 'UCU', '2021']\n"
          ]
        }
      ]
    },
    {
      "cell_type": "markdown",
      "metadata": {
        "id": "vGqnDQVjDNFQ"
      },
      "source": [
        "Отже, `sys.argv` містить усі аргументи командного рядка `argv.py`. При виконанні python програми  інтерпретатор аналізує командний рядок й зберігає всі аргументи у `sys.argv`."
      ]
    },
    {
      "cell_type": "markdown",
      "metadata": {
        "id": "9VFLETUI9-vv"
      },
      "source": [
        "##Робота з аргументами"
      ]
    },
    {
      "cell_type": "markdown",
      "metadata": {
        "id": "hzWCGPBVDt9I"
      },
      "source": [
        "Оскільки `sys.argv` це список"
      ]
    },
    {
      "cell_type": "code",
      "metadata": {
        "colab": {
          "base_uri": "https://localhost:8080/"
        },
        "id": "BgKsNLvFD0fA",
        "outputId": "4432df62-1a9e-475f-89ef-632f1a44fb12"
      },
      "source": [
        "type(sys.argv)"
      ],
      "execution_count": null,
      "outputs": [
        {
          "output_type": "execute_result",
          "data": {
            "text/plain": [
              "list"
            ]
          },
          "metadata": {},
          "execution_count": 7
        }
      ]
    },
    {
      "cell_type": "markdown",
      "metadata": {
        "id": "f6DhkymWGNQT"
      },
      "source": [
        "то в програмі можна працювати з аргументами як зі звичайним списком.\n",
        "Наступна програма `reverse.py`це демонструє "
      ]
    },
    {
      "cell_type": "code",
      "metadata": {
        "colab": {
          "base_uri": "https://localhost:8080/"
        },
        "id": "9ZS7Il6eGsDd",
        "outputId": "b878b7f9-e7bb-4f8a-d66b-dd5beb2efa32"
      },
      "source": [
        "import sys\n",
        "\n",
        "args = sys.argv\n",
        "name = args[1]\n",
        "print([arg[::-1] for arg in args[1].split()])"
      ],
      "execution_count": null,
      "outputs": [
        {
          "output_type": "stream",
          "name": "stdout",
          "text": [
            "['f-']\n"
          ]
        }
      ]
    },
    {
      "cell_type": "code",
      "metadata": {
        "colab": {
          "base_uri": "https://localhost:8080/"
        },
        "id": "nGWoI-dtHdWL",
        "outputId": "298b6002-b055-4a23-f5c5-3c3b8b2a77c0"
      },
      "source": [
        "!python reverse.py APPS UCU 2021"
      ],
      "execution_count": null,
      "outputs": [
        {
          "output_type": "stream",
          "name": "stdout",
          "text": [
            "['SPPA', 'UCU', '1202']\n"
          ]
        }
      ]
    },
    {
      "cell_type": "markdown",
      "metadata": {
        "id": "i3MQqGpzIAMm"
      },
      "source": [
        "`sys.argv` це глобальна змінні й потрібно це враховувати при її використанні.\n",
        "В будь-якому місці програми можна її змінювати"
      ]
    },
    {
      "cell_type": "code",
      "metadata": {
        "id": "cgP-vTqRIiaV"
      },
      "source": [
        "# argv_pop.py\n",
        "\n",
        "import sys\n",
        "\n",
        "print(sys.argv)\n",
        "sys.argv.pop()\n",
        "print(sys.argv)\n"
      ],
      "execution_count": null,
      "outputs": []
    },
    {
      "cell_type": "code",
      "metadata": {
        "id": "DCl1WdMSJU5U"
      },
      "source": [
        "!python argv_pop.py APPS UCU 2021"
      ],
      "execution_count": null,
      "outputs": []
    },
    {
      "cell_type": "markdown",
      "metadata": {
        "id": "sH5nODo8Ii6U"
      },
      "source": [
        "Для уникнення невизначеності при роботі програми, якщо аргументи випадково зазнали змін вартує за потреби їх зберігати  "
      ]
    },
    {
      "cell_type": "code",
      "metadata": {
        "id": "x44rAyRiJNfv"
      },
      "source": [
        "# argv_var_pop.py\n",
        "\n",
        "import sys\n",
        "\n",
        "print(sys.argv)\n",
        "args = sys.argv[1]\n",
        "print(args)\n",
        "sys.argv.pop()\n",
        "print(sys.argv)\n",
        "print(args)\n"
      ],
      "execution_count": null,
      "outputs": []
    },
    {
      "cell_type": "code",
      "metadata": {
        "id": "wLsu5OCUJfuG"
      },
      "source": [
        "!python argv_var_pop.py APPS UCU 2021"
      ],
      "execution_count": null,
      "outputs": []
    },
    {
      "cell_type": "code",
      "metadata": {
        "id": "DkLeM-wUJrks"
      },
      "source": [
        "# fragment from pip source code\n",
        "def main(args=None):\n",
        "    if args is None:\n",
        "        args = sys.argv[1:]\n"
      ],
      "execution_count": null,
      "outputs": []
    },
    {
      "cell_type": "markdown",
      "metadata": {
        "id": "vI7yC8R6-nWQ"
      },
      "source": [
        "##Обробка помилок"
      ]
    },
    {
      "cell_type": "markdown",
      "metadata": {
        "id": "mse2YCyxKB16"
      },
      "source": [
        "Аргументи командного рядка Python — це окремі рядки. Для того щоб користувач передавав в програму правильні аргументи потрібно надати йому додаткову інформацію (вказівки) Наприклад, reverse.py очікує один аргумент, і якщо при запуску його опустити то буде отримано виняток:"
      ]
    },
    {
      "cell_type": "code",
      "metadata": {
        "colab": {
          "base_uri": "https://localhost:8080/"
        },
        "id": "yaliTlWbNp3-",
        "outputId": "ccf95ed6-0409-438c-d2ba-627ffd1eebd3"
      },
      "source": [
        "!python reverse.py"
      ],
      "execution_count": null,
      "outputs": [
        {
          "output_type": "stream",
          "name": "stdout",
          "text": [
            "Traceback (most recent call last):\n",
            "  File \"reverse.py\", line 4, in <module>\n",
            "    name = args[1]\n",
            "IndexError: list index out of range\n"
          ]
        }
      ]
    },
    {
      "cell_type": "markdown",
      "metadata": {
        "id": "TjxrVNeMOpdB"
      },
      "source": [
        "Найпростіший спосіб цьому запобігти це перехопити та обробити цю виняткову ситуацію"
      ]
    },
    {
      "cell_type": "code",
      "metadata": {
        "id": "ZKv4IJLNPCwh"
      },
      "source": [
        "# reverse_exc.py\n",
        "\n",
        "import sys\n",
        "\n",
        "try:\n",
        "    args = sys.argv\n",
        "    name = args[1]\n",
        "except IndexError:\n",
        "    raise SystemExit(f\"Usage: {sys.argv[0]} <string_to_reverse>\")\n",
        "\n",
        "print([arg[::-1] for arg in args[1].split()])"
      ],
      "execution_count": null,
      "outputs": []
    },
    {
      "cell_type": "code",
      "metadata": {
        "id": "A2aCdQyHKCp0"
      },
      "source": [
        "!python reverse_exc.py"
      ],
      "execution_count": null,
      "outputs": []
    },
    {
      "cell_type": "markdown",
      "metadata": {
        "id": "L8r_70hRcVQB"
      },
      "source": [
        "# Аргументи командного рядка"
      ]
    },
    {
      "cell_type": "markdown",
      "metadata": {
        "id": "tAvgsmXkQyvd"
      },
      "source": [
        "Аргументи командного рядка Python можуть складатися з різних типів аргументів:\n",
        "* Параметри(options) змінюють поведінку команди або програми.\n",
        "* Аргументи представляють дані призначені для обробки (звідки отримати дані та де зберегти після обробки).\n",
        "* Підкоманди(subcommands) дозволяють використовувати більше одну команду з відповідним набором параметрів та аргументів.\n"
      ]
    },
    {
      "cell_type": "markdown",
      "metadata": {
        "id": "0Agjw7c9-86c"
      },
      "source": [
        "##Стандарти"
      ]
    },
    {
      "cell_type": "markdown",
      "metadata": {
        "id": "c053s3P5R94W"
      },
      "source": [
        "Відомі наступні стандарти, які забезпечують узгодженіть при створенні команд та визначенні їх аргументів. Стандарти надають вказівки, як це правильно зробити.\n",
        "Наступні фрагменти з цих стандартів демострують відмінності, які в них присутні."
      ]
    },
    {
      "cell_type": "markdown",
      "metadata": {
        "id": "IInI7xv7S8sm"
      },
      "source": [
        "\n",
        "* POSIX:\n",
        "** A program or utility is followed by options, option-arguments, and operands.\n",
        "** All options should be preceded with a hyphen or minus (-) delimiter character.\n",
        "** Option-arguments should not be optional.\n",
        "* GNU:\n",
        "** All programs should support two standard options, which are --version and --help.\n",
        "** Long-named options are equivalent to the single-letter Unix-style options. An example is --debug and -d.\n",
        "* docopt:\n",
        "** Short options can be stacked, meaning that -abc is equivalent to -a -b -c.\n",
        "** Long options can have arguments specified after a space or the equals sign (=). The long option --input=ARG is equivalent to --input ARG.\n"
      ]
    },
    {
      "cell_type": "markdown",
      "metadata": {
        "id": "xUK5uNUM_L2T"
      },
      "source": [
        "##Параметри"
      ]
    },
    {
      "cell_type": "markdown",
      "metadata": {
        "id": "aFjTzxvKT0uk"
      },
      "source": [
        "Параметри (options), також називають прапорцями(flag), ключами чи перемикачами (switch) змінюють поведінку програми. Наприклад команда `ls` в Linux dвиводить на екран вміст поточної директорії (файли та директорії)"
      ]
    },
    {
      "cell_type": "code",
      "metadata": {
        "colab": {
          "base_uri": "https://localhost:8080/"
        },
        "id": "L9d3WoOiUt4j",
        "outputId": "9f688ada-8e3d-4aab-cd43-8cb8099bc72b"
      },
      "source": [
        "!ls"
      ],
      "execution_count": null,
      "outputs": [
        {
          "output_type": "stream",
          "name": "stdout",
          "text": [
            "argv.py  main.py\n"
          ]
        }
      ]
    },
    {
      "cell_type": "markdown",
      "metadata": {
        "id": "933D2VwyU58r"
      },
      "source": [
        "Якщо до цієї команди додати два параметри `-l` та `-s` то результат її виконання змінюється"
      ]
    },
    {
      "cell_type": "code",
      "metadata": {
        "colab": {
          "base_uri": "https://localhost:8080/"
        },
        "id": "FkVrobQeVJch",
        "outputId": "bdb9ef9b-47dd-4931-9f51-7d88b82c8de6"
      },
      "source": [
        "!ls -ls"
      ],
      "execution_count": null,
      "outputs": [
        {
          "output_type": "stream",
          "name": "stdout",
          "text": [
            "total 8\n",
            "4 -rw-r--r-- 1 root root 114 Oct 27 08:41 argv.py\n",
            "4 -rw-r--r-- 1 root root 165 Oct 27 08:30 main.py\n"
          ]
        }
      ]
    },
    {
      "cell_type": "markdown",
      "metadata": {
        "id": "FdCwI_YgVl6C"
      },
      "source": [
        "Параметри також можуть мати аргументи. Наступний приклад демонструє використання параметрів та їх аргументів."
      ]
    },
    {
      "cell_type": "code",
      "metadata": {
        "colab": {
          "base_uri": "https://localhost:8080/"
        },
        "id": "3DS0nIhJVe5i",
        "outputId": "1a10cb69-e3e8-422b-c4cb-9356d80a0c37"
      },
      "source": [
        "!od -t x1z -N 32 main.py"
      ],
      "execution_count": null,
      "outputs": [
        {
          "output_type": "stream",
          "name": "stdout",
          "text": [
            "0000000 69 6d 70 6f 72 74 20 73 79 73 0a 0a 69 66 20 5f  >import sys..if _<\n",
            "0000020 5f 6e 61 6d 65 5f 5f 20 3d 3d 20 22 5f 5f 6d 61  >_name__ == \"__ma<\n",
            "0000040\n"
          ]
        }
      ]
    },
    {
      "cell_type": "markdown",
      "metadata": {
        "id": "3kLwiqiGWVch"
      },
      "source": [
        "Наведена вище команда виводить 32 перших байти з файла в шістнадцятковому форматі.\n",
        "-t тип виведення, x-шістнацятковий формат, 1-один байт на ціл число, z-показати друковані символи\n",
        "-N кількість байт"
      ]
    },
    {
      "cell_type": "markdown",
      "metadata": {
        "id": "C3cbvFUP_GEO"
      },
      "source": [
        "##Аргументи"
      ]
    },
    {
      "cell_type": "markdown",
      "metadata": {
        "id": "yJ77dhSpXYYJ"
      },
      "source": [
        "Аргументи або операнди представляють дані які використовує команда. Наприклад команда `cp`, використовується для копіювання файлів у файли чи деректорії потребує щонайменше два операнди - файл що копіюється та файл у який копіюється."
      ]
    },
    {
      "cell_type": "code",
      "metadata": {
        "colab": {
          "base_uri": "https://localhost:8080/"
        },
        "id": "2_rBIGU9s2C6",
        "outputId": "65d26a38-0c46-4e17-c623-000150c185bb"
      },
      "source": [
        "!ls"
      ],
      "execution_count": null,
      "outputs": [
        {
          "output_type": "stream",
          "name": "stdout",
          "text": [
            "argv.py  main.py  reverse.py  sample_data  temp\n"
          ]
        }
      ]
    },
    {
      "cell_type": "code",
      "metadata": {
        "id": "WJv-sSWTs8v6"
      },
      "source": [
        "!cp argv.py argvv.py"
      ],
      "execution_count": null,
      "outputs": []
    },
    {
      "cell_type": "code",
      "metadata": {
        "colab": {
          "base_uri": "https://localhost:8080/"
        },
        "id": "z_9PMc5UtN6k",
        "outputId": "cf98faef-4c02-453e-bed0-44011259750f"
      },
      "source": [
        "!ls"
      ],
      "execution_count": null,
      "outputs": [
        {
          "output_type": "stream",
          "name": "stdout",
          "text": [
            "argv.py  argvv.py  main.py  reverse.py\tsample_data  temp\n"
          ]
        }
      ]
    },
    {
      "cell_type": "markdown",
      "metadata": {
        "id": "PHwea1Ak_B2s"
      },
      "source": [
        "##Підкоманди (Subcommands)"
      ]
    },
    {
      "cell_type": "markdown",
      "metadata": {
        "id": "fhjFBBGpXcXq"
      },
      "source": [
        "Стандартні утиліти Unix це невеликі програми, які призначені для виконання однієї дії.\n",
        "Сучасна генрація програм `git`,`go`,`doker` та інші використовують підкоманди.\n",
        "Наприклад в `git`:\n",
        "* git branch displays the branches of the local git repository.\n",
        "* git branch custom_python creates a local branch custom_python in a local repository.\n",
        "* git branch -d custom_python deletes the local branch custom_python.\n",
        "* git branch --help displays the help for the git branch subcommand.\n",
        "\n",
        "В pip також використовуються підкоманди - list, install, freeze, та uninstall."
      ]
    },
    {
      "cell_type": "markdown",
      "metadata": {
        "id": "SidIqENY_PKa"
      },
      "source": [
        "##Аргументи командного рядка Python"
      ]
    },
    {
      "cell_type": "markdown",
      "metadata": {
        "id": "3qTtORUOXeVa"
      },
      "source": [
        "Командний рядок Python (рядок, що запускає програму на виконання) складається з двох частин:\n",
        "* Параметри інтерпретатора Python\n",
        "* Python програма та її аргументи  "
      ]
    },
    {
      "cell_type": "markdown",
      "metadata": {
        "id": "qlz4ZDu_v-lc"
      },
      "source": [
        "Наступна команда містить параметри інтерпретатора -B, -v та параметри й аргументи, що передаються у програму --verbose, --debug, APPS, UCU.  "
      ]
    },
    {
      "cell_type": "code",
      "metadata": {
        "id": "RNI_6xBRv_Mp"
      },
      "source": [
        "!python -B -v main.py --verbose --debug APPS UCU"
      ],
      "execution_count": null,
      "outputs": []
    },
    {
      "cell_type": "code",
      "metadata": {
        "colab": {
          "base_uri": "https://localhost:8080/"
        },
        "id": "7KfdH01vGQHp",
        "outputId": "fcb64e0c-8b88-4c2e-ec5b-b877ae359a7a"
      },
      "source": [
        "!python"
      ],
      "execution_count": null,
      "outputs": [
        {
          "output_type": "stream",
          "name": "stdout",
          "text": [
            "Python 3.7.12 (default, Sep 10 2021, 00:21:48) \n",
            "[GCC 7.5.0] on linux\n",
            "Type \"help\", \"copyright\", \"credits\" or \"license\" for more information.\n",
            ">>> fhfh\n",
            "Traceback (most recent call last):\n",
            "  File \"<stdin>\", line 1, in <module>\n",
            "NameError: name 'fhfh' is not defined\n",
            ">>> \n",
            ">>> \n",
            "KeyboardInterrupt\n",
            ">>> \n",
            "KeyboardInterrupt\n",
            ">>> \n",
            "KeyboardInterrupt\n",
            ">>> \n",
            "KeyboardInterrupt\n",
            ">>> ^C\n",
            "^C\n"
          ]
        }
      ]
    },
    {
      "cell_type": "code",
      "metadata": {
        "id": "zzQUAuA_GWDr"
      },
      "source": [
        "c"
      ],
      "execution_count": null,
      "outputs": []
    },
    {
      "cell_type": "markdown",
      "metadata": {
        "id": "aHSYQHTFx8mj"
      },
      "source": [
        "параметр -B вказує інтерпретатору не створювати файли *.pyc при імпортуванні модулів\n",
        "\n",
        "параметр -v (verbose) вказує інтерпретатору відслідковувати всі інструкції import\n",
        "\n",
        "Наступний рисунок ілюструє та пояснює цю команду\n",
        "![python_blue.webp](data:image/webp;base64,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)\n",
        "https://realpython.com/python-command-line-arguments/#the-anatomy-of-python-command-line-arguments"
      ]
    },
    {
      "cell_type": "markdown",
      "metadata": {
        "id": "NceWTWNrcgh7"
      },
      "source": [
        "# Розбір аргументів командного рядка"
      ]
    },
    {
      "cell_type": "markdown",
      "metadata": {
        "id": "M5fdI3GG0TTz"
      },
      "source": [
        "Якщо комндний рядок Python містить параметри, аргументи та інші операнди то для роботи з ними потрібно використовувати спеціальні підходи.\n",
        "В найпростішому випадку достатньо працювати з аргументами як з елементами списку. Більш складні випадки вимагають використанні регулярних виразів."
      ]
    },
    {
      "cell_type": "markdown",
      "metadata": {
        "id": "14g8wd5j_lh2"
      },
      "source": [
        "##Робота з рядками"
      ]
    },
    {
      "cell_type": "markdown",
      "metadata": {
        "id": "LL3mbn7j1oHK"
      },
      "source": [
        "Розглянемо наступну програму, яка призначена для модифікації регістру аргументів командного рядка."
      ]
    },
    {
      "cell_type": "code",
      "metadata": {
        "id": "Khen1CSY2icZ"
      },
      "source": [
        "\n",
        "# cul.py\n",
        "\n",
        "import sys\n",
        "\n",
        "opts = [opt for opt in sys.argv[1:] if opt.startswith(\"-\")]\n",
        "args = [arg for arg in sys.argv[1:] if not arg.startswith(\"-\")]\n",
        "\n",
        "if \"-c\" in opts:\n",
        "    print(\" \".join(arg.capitalize() for arg in args))\n",
        "elif \"-u\" in opts:\n",
        "    print(\" \".join(arg.upper() for arg in args))\n",
        "elif \"-l\" in opts:\n",
        "    print(\" \".join(arg.lower() for arg in args))\n",
        "else:\n",
        "    raise SystemExit(f\"Usage: {sys.argv[0]} (-c | -u | -l) <arguments>...\")\n"
      ],
      "execution_count": null,
      "outputs": []
    },
    {
      "cell_type": "code",
      "metadata": {
        "colab": {
          "base_uri": "https://localhost:8080/"
        },
        "id": "ffOE5n9AHYvM",
        "outputId": "d074c711-51e6-43e4-c196-fb830a6b78a8"
      },
      "source": [
        "print(12)"
      ],
      "execution_count": null,
      "outputs": [
        {
          "output_type": "stream",
          "name": "stdout",
          "text": [
            "12\n"
          ]
        }
      ]
    },
    {
      "cell_type": "code",
      "metadata": {
        "colab": {
          "base_uri": "https://localhost:8080/"
        },
        "id": "YkX12EdMHjv6",
        "outputId": "ad885dcc-b715-4524-e57c-371c31f54ea3"
      },
      "source": [
        "!python cup.py -u adfvds fbfgbb"
      ],
      "execution_count": null,
      "outputs": [
        {
          "output_type": "stream",
          "name": "stdout",
          "text": [
            "ADFVDS FBFGBB\n"
          ]
        }
      ]
    },
    {
      "cell_type": "markdown",
      "metadata": {
        "id": "q1iSmd6_217m"
      },
      "source": [
        "В програмі передбачено використання наступних параметрів:\n",
        "* -c для пертворення перших літер аргументів у великі літери\n",
        "* -u для перетворення аргументів до верхнього регістру\n",
        "* -l для перетворення аргументів до нижнього регістру"
      ]
    },
    {
      "cell_type": "code",
      "metadata": {
        "colab": {
          "base_uri": "https://localhost:8080/"
        },
        "id": "sIC1VR6g22q9",
        "outputId": "f61cbd71-f0ae-45e8-ad19-b34b0f880cef"
      },
      "source": [
        "!python cul.py -c APPS UCU"
      ],
      "execution_count": null,
      "outputs": [
        {
          "output_type": "stream",
          "name": "stdout",
          "text": [
            "Apps Ucu\n"
          ]
        }
      ]
    },
    {
      "cell_type": "code",
      "metadata": {
        "colab": {
          "base_uri": "https://localhost:8080/"
        },
        "id": "zPut6sLY3s1t",
        "outputId": "b902ae7a-0820-4c49-fb3c-174ece8862dd"
      },
      "source": [
        "!python cul.py -u APPS UCU"
      ],
      "execution_count": null,
      "outputs": [
        {
          "output_type": "stream",
          "name": "stdout",
          "text": [
            "APPS UCU\n"
          ]
        }
      ]
    },
    {
      "cell_type": "code",
      "metadata": {
        "colab": {
          "base_uri": "https://localhost:8080/"
        },
        "id": "m4DK4Q9c3v48",
        "outputId": "0a52f15f-0266-49db-d92b-329312ead3a8"
      },
      "source": [
        "!python cul.py -l APPS UCU"
      ],
      "execution_count": null,
      "outputs": [
        {
          "output_type": "stream",
          "name": "stdout",
          "text": [
            "apps ucu\n"
          ]
        }
      ]
    },
    {
      "cell_type": "markdown",
      "metadata": {
        "id": "59pfij8FcrBQ"
      },
      "source": [
        "# Засоби стандартної бібліотеки для обробки аргументів командного рядка"
      ]
    },
    {
      "cell_type": "markdown",
      "metadata": {
        "id": "C9-VzRxl4kO5"
      },
      "source": [
        "Для роботи з аргументами командного рядка використовуються різні підходи (робота зі списком, регулярні вирази, окремі програми розбору). У випадках коли у програмі потрібно реалізувати складний інтерфейс командного рядка потрібно використовувати бібліотеки зі стандартної бібліотеки.\n",
        "У Python3.8 є дві біліотеки, що дозволяють розбирати та обробляти командні рядки:\n",
        "* argparse\n",
        "* getopt\n",
        "\n",
        "Зараз у більшості випадків рекомендують використовувати `argparse`\n",
        "\n"
      ]
    },
    {
      "cell_type": "markdown",
      "metadata": {
        "id": "-deKvQ_5c9wI"
      },
      "source": [
        "##модуль argparse"
      ]
    },
    {
      "cell_type": "markdown",
      "metadata": {
        "id": "pGFycWtV-9hw"
      },
      "source": [
        "###Початок роботи"
      ]
    },
    {
      "cell_type": "markdown",
      "metadata": {
        "id": "V_rOeLuc_lr8"
      },
      "source": [
        "Для початку роботи з модулем argparse достатньо виконати три кроки."
      ]
    },
    {
      "cell_type": "code",
      "metadata": {
        "id": "1iVsirA0_zvE"
      },
      "source": [
        "# argparse_1.py\n",
        "\n",
        "import argparse\n",
        "\n",
        "parser = argparse.ArgumentParser(description='A tutorial of argparse!')\n",
        "\n",
        "args = parser.parse_args()"
      ],
      "execution_count": null,
      "outputs": []
    },
    {
      "cell_type": "markdown",
      "metadata": {
        "id": "ytfz_qiOBYpA"
      },
      "source": [
        "В рядку 3 імпортується модуль\n",
        "\n",
        "В рядку 5 створення парсера (об\\'єкт, який буде розбирати командний рядок)\n",
        "\n",
        "В рядку 7 виконується розбір аргументів командного рядка\n",
        "\n",
        "Об\\'єкт parser дозволяє додавати параметри та аргументи командного рядка. Функція `parse_args()` видобуває аргументи з командного рядка, які вводить користувач. "
      ]
    },
    {
      "cell_type": "code",
      "metadata": {
        "colab": {
          "base_uri": "https://localhost:8080/"
        },
        "id": "pBjpUAegDLOA",
        "outputId": "d47e088a-6ee5-4c22-bb8c-0cea374d9022"
      },
      "source": [
        "%cd ..\n",
        "%cd argparsetut\n",
        "!ls\n"
      ],
      "execution_count": null,
      "outputs": [
        {
          "output_type": "stream",
          "name": "stdout",
          "text": [
            "/content\n",
            "/content/argparsetut\n",
            "argparse_1.py\n"
          ]
        }
      ]
    },
    {
      "cell_type": "code",
      "metadata": {
        "colab": {
          "base_uri": "https://localhost:8080/"
        },
        "id": "lsXGM1y7ELRa",
        "outputId": "72654fe3-75f5-4b83-c306-c94b3005c620"
      },
      "source": [
        "!python argparse_1.py --a=1234"
      ],
      "execution_count": null,
      "outputs": [
        {
          "output_type": "stream",
          "name": "stdout",
          "text": [
            "1234\n"
          ]
        }
      ]
    },
    {
      "cell_type": "markdown",
      "metadata": {
        "id": "2_Xa2xCpEvW8"
      },
      "source": [
        "Якщо додати параметр командного рядка з ім\\'ям `a`, то можна буде його використовувати при запуску програми"
      ]
    },
    {
      "cell_type": "code",
      "metadata": {
        "id": "a67sWMwgFNS4"
      },
      "source": [
        "# argparse_2.py\n",
        "\n",
        "import argparse\n",
        "\n",
        "parser = argparse.ArgumentParser(description='A tutorial of argparse!')\n",
        "parser.add_argument(\"--a\")\n",
        "\n",
        "args = parser.parse_args()\n",
        "a = args.a\n",
        "print(a)"
      ],
      "execution_count": null,
      "outputs": []
    },
    {
      "cell_type": "markdown",
      "metadata": {
        "id": "7CXp4AEGFjQs"
      },
      "source": [
        "Для додавання аргументу командного рядка використовується функція `add_argument`, а для доступу до значення, яке отримано з `a` використовується `args.a`"
      ]
    },
    {
      "cell_type": "code",
      "metadata": {
        "colab": {
          "base_uri": "https://localhost:8080/"
        },
        "id": "4-NpMbbHFcTs",
        "outputId": "0b093eb9-9b7c-44fd-d671-d8d32285fe8d"
      },
      "source": [
        "!python argparse_2.py --a=\"APPS UCU\""
      ],
      "execution_count": null,
      "outputs": [
        {
          "output_type": "stream",
          "name": "stdout",
          "text": [
            "APPS UCU\n"
          ]
        }
      ]
    },
    {
      "cell_type": "markdown",
      "metadata": {
        "id": "o_MpIYBnGO5w"
      },
      "source": [
        "Більш зручним буде наступний варіант програми де атрибуту присвоєно значення по замовчуванню та додано рядок з описом параметра, який буде зображатися при використанні `--help`"
      ]
    },
    {
      "cell_type": "code",
      "metadata": {
        "id": "RsLpt4KuGt30"
      },
      "source": [
        "# argparse_3.py\n",
        "\n",
        "import argparse\n",
        "\n",
        "parser = argparse.ArgumentParser(description='A tutorial of argparse!')\n",
        "parser.add_argument(\"--a\", default=\"2021\", help=\"This is the 'a' variable\")\n",
        "\n",
        "args = parser.parse_args()\n",
        "a = args.a\n",
        "print(a)"
      ],
      "execution_count": null,
      "outputs": []
    },
    {
      "cell_type": "code",
      "metadata": {
        "colab": {
          "base_uri": "https://localhost:8080/"
        },
        "id": "6fzACh9WG-Wz",
        "outputId": "31109c1b-d2fa-4959-a57a-977315db4cce"
      },
      "source": [
        "!python argparse_3.py"
      ],
      "execution_count": null,
      "outputs": [
        {
          "output_type": "stream",
          "name": "stdout",
          "text": [
            "2021\n"
          ]
        }
      ]
    },
    {
      "cell_type": "code",
      "metadata": {
        "colab": {
          "base_uri": "https://localhost:8080/"
        },
        "id": "MQAQKopAHXdr",
        "outputId": "af88bc50-6fe4-45e3-8701-3beb1c4944af"
      },
      "source": [
        "!python argparse_3.py --help"
      ],
      "execution_count": null,
      "outputs": [
        {
          "output_type": "stream",
          "name": "stdout",
          "text": [
            "usage: argparse_3.py [-h] [--a A]\n",
            "\n",
            "A tutorial of argparse!\n",
            "\n",
            "optional arguments:\n",
            "  -h, --help  show this help message and exit\n",
            "  --a A       This is the 'a' variable\n"
          ]
        }
      ]
    },
    {
      "cell_type": "markdown",
      "metadata": {
        "id": "2sQosPO6_IXE"
      },
      "source": [
        "###Просте використання аргументів командного рядка"
      ]
    },
    {
      "cell_type": "markdown",
      "metadata": {
        "id": "tJK14ILtITe7"
      },
      "source": [
        "Для додаткової специфікації аргументів можна вказати тип кожного з них. В такому випадку при обробці аргументів буде відбуватися за потреби й перетворення типів "
      ]
    },
    {
      "cell_type": "code",
      "metadata": {
        "id": "1rKI-EXJI9DI"
      },
      "source": [
        "# argparser_4.py\n",
        "\n",
        "import argparse\n",
        "\n",
        "parser = argparse.ArgumentParser(description='A tutorial of argparse!')\n",
        "parser.add_argument(\"--a\", default=2021, type=int, help=\"This is the 'a' variable\")\n",
        "parser.add_argument(\"--name\", default=None, type=str, help=\"Your name\")\n",
        "\n",
        "args = parser.parse_args()\n",
        "print(args.name, args.a)"
      ],
      "execution_count": null,
      "outputs": []
    },
    {
      "cell_type": "code",
      "metadata": {
        "colab": {
          "base_uri": "https://localhost:8080/"
        },
        "id": "zCpw1eBkJgAs",
        "outputId": "0ff0f200-6813-41d5-cf43-5bcf514ee510"
      },
      "source": [
        "!python argparse_4.py"
      ],
      "execution_count": null,
      "outputs": [
        {
          "output_type": "stream",
          "name": "stdout",
          "text": [
            "None 2021\n"
          ]
        }
      ]
    },
    {
      "cell_type": "code",
      "metadata": {
        "colab": {
          "base_uri": "https://localhost:8080/"
        },
        "id": "cG3CEj_NJly3",
        "outputId": "2c271278-0881-4159-ba53-aab062bddca9"
      },
      "source": [
        "!python argparse_4.py --name \"APPS UCU\""
      ],
      "execution_count": null,
      "outputs": [
        {
          "output_type": "stream",
          "name": "stdout",
          "text": [
            "APPS UCU 2021\n"
          ]
        }
      ]
    },
    {
      "cell_type": "markdown",
      "metadata": {
        "id": "agnKOe5VJzct"
      },
      "source": [
        "Для того щоб вказати користувачу на необхідність передачі значення для певного аргументу потрібно використовувати ключове слово `required`. Значення True для `required` зобов\\'язує користувача встановити значення для параметра --name. "
      ]
    },
    {
      "cell_type": "code",
      "metadata": {
        "id": "2Fkx88vLK-q4"
      },
      "source": [
        "# argparser_5.py\n",
        "\n",
        "import argparse\n",
        "\n",
        "parser = argparse.ArgumentParser(description='A tutorial of argparse!')\n",
        "parser.add_argument(\"--a\", default=2021, type=int, help=\"This is the 'a' variable\")\n",
        "parser.add_argument(\"--name\", required=True, type=str, help=\"Your name\")\n",
        "\n",
        "args = parser.parse_args()\n",
        "print(args.name, args.a)"
      ],
      "execution_count": null,
      "outputs": []
    },
    {
      "cell_type": "code",
      "metadata": {
        "colab": {
          "base_uri": "https://localhost:8080/"
        },
        "id": "u39d0k5rLSDt",
        "outputId": "f2e75ae7-38a0-4798-e290-3513df112cc5"
      },
      "source": [
        "!python argparse_5.py --name \"APPS UCU\""
      ],
      "execution_count": null,
      "outputs": [
        {
          "output_type": "stream",
          "name": "stdout",
          "text": [
            "APPS UCU 2021\n"
          ]
        }
      ]
    },
    {
      "cell_type": "code",
      "metadata": {
        "colab": {
          "base_uri": "https://localhost:8080/"
        },
        "id": "FPy6tzJjLV-n",
        "outputId": "dadecf33-6187-4c16-ee88-355d17999e23"
      },
      "source": [
        "!python argparse_5.py"
      ],
      "execution_count": null,
      "outputs": [
        {
          "output_type": "stream",
          "name": "stdout",
          "text": [
            "usage: argparse_5.py [-h] [--a A] --name NAME\n",
            "argparse_5.py: error: the following arguments are required: --name\n"
          ]
        }
      ]
    },
    {
      "cell_type": "markdown",
      "metadata": {
        "id": "cWmLXckZLiqi"
      },
      "source": [
        "Також можна обмежити варіанти значень для певного аргументу за допомогою `choices`"
      ]
    },
    {
      "cell_type": "code",
      "metadata": {
        "id": "8F5_AyZdL8n4"
      },
      "source": [
        "# argparse_6.py\n",
        "\n",
        "import argparse\n",
        "\n",
        "parser = argparse.ArgumentParser(description='A tutorial of argparse!')\n",
        "parser.add_argument(\"--a\", default=1, type=int, help=\"This is the 'a' variable\")\n",
        "parser.add_argument(\"--education\", \n",
        "                    choices=[\"highschool\", \"college\", \"university\", \"other\"],\n",
        "                    required=True, type=str, help=\"Your name\")\n",
        "\n",
        "args = parser.parse_args()\n",
        "\n",
        "ed = args.education\n",
        "\n",
        "if ed == \"college\" or ed == \"university\":\n",
        "    print(\"Has degree\")\n",
        "elif ed == \"highschool\":\n",
        "  print(\"Finished Highschool\")\n",
        "else:\n",
        "    print(\"Does not have degree\")"
      ],
      "execution_count": null,
      "outputs": []
    },
    {
      "cell_type": "code",
      "metadata": {
        "colab": {
          "base_uri": "https://localhost:8080/"
        },
        "id": "gS4OU1U1MQjb",
        "outputId": "e37fe56d-5f2d-4f2c-a4f8-7567d4b1f452"
      },
      "source": [
        "!python argparse_6.py --education \"university\""
      ],
      "execution_count": null,
      "outputs": [
        {
          "output_type": "stream",
          "name": "stdout",
          "text": [
            "Has degree\n"
          ]
        }
      ]
    },
    {
      "cell_type": "code",
      "metadata": {
        "colab": {
          "base_uri": "https://localhost:8080/"
        },
        "id": "9Eq2pmfDMciR",
        "outputId": "efeefbad-a367-482f-d75a-c4c734161781"
      },
      "source": [
        "!python argparse_6.py --education \"VUZ\""
      ],
      "execution_count": null,
      "outputs": [
        {
          "output_type": "stream",
          "name": "stdout",
          "text": [
            "usage: argparse_6.py [-h] [--a A] --education\n",
            "                     {highschool,college,university,other}\n",
            "argparse_6.py: error: argument --education: invalid choice: 'VUZ' (choose from 'highschool', 'college', 'university', 'other')\n"
          ]
        }
      ]
    },
    {
      "cell_type": "markdown",
      "metadata": {
        "id": "edmoVme__S5N"
      },
      "source": [
        "###Складні випадки використання аргументів командного рядка"
      ]
    },
    {
      "cell_type": "markdown",
      "metadata": {
        "id": "GnU89lpeM6JH"
      },
      "source": [
        "Модуль `argparse` дозволяє гнучко налаштовувати інтерфейс командного рядка.\n",
        "Наприклад, можна за допомогою `action` вказати парсеру на дії, які він повинен виконати."
      ]
    },
    {
      "cell_type": "code",
      "metadata": {
        "id": "eS6qVIxjNtUQ"
      },
      "source": [
        "# argparser_7.py\n",
        "\n",
        "import argparse\n",
        "\n",
        "parser = argparse.ArgumentParser(description='A tutorial of argparse!')\n",
        "parser.add_argument(\"--a\", action=\"store_true\", help=\"This is the 'a' variable\")\n",
        "parser.add_argument(\"--b\", action=\"store_const\", const=10,\n",
        "                    help=\"This is the 'b' variable\")\n",
        "\n",
        "args = parser.parse_args()\n",
        "a = args.a\n",
        "b = args.b\n",
        "\n",
        "print(a)\n",
        "print(b)"
      ],
      "execution_count": null,
      "outputs": []
    },
    {
      "cell_type": "markdown",
      "metadata": {
        "id": "1jycF-N9gofu"
      },
      "source": [
        "Якщо в командному рядку присутній параметр `--a` то його значення буде `True`, в іншому випадку його значення буде `False`\n",
        "\n",
        "Якщо в командному рядку присутній параметр `--b` то його значення буде 10, в іншому випадку None."
      ]
    },
    {
      "cell_type": "code",
      "metadata": {
        "colab": {
          "base_uri": "https://localhost:8080/"
        },
        "id": "3uRbnCL7_fUh",
        "outputId": "085f978d-19c9-4cbe-90eb-87e11865e304"
      },
      "source": [
        "!python argparse_7.py"
      ],
      "execution_count": null,
      "outputs": [
        {
          "output_type": "stream",
          "name": "stdout",
          "text": [
            "False\n",
            "None\n"
          ]
        }
      ]
    },
    {
      "cell_type": "code",
      "metadata": {
        "colab": {
          "base_uri": "https://localhost:8080/"
        },
        "id": "hKoqFyVPOfg2",
        "outputId": "92e4f75f-387c-46d0-eaf4-76596d44af43"
      },
      "source": [
        "!python argparse_7.py --a --b"
      ],
      "execution_count": null,
      "outputs": [
        {
          "output_type": "stream",
          "name": "stdout",
          "text": [
            "True\n",
            "10\n"
          ]
        }
      ]
    },
    {
      "cell_type": "markdown",
      "metadata": {
        "id": "uY-P8Lm9Pv8L"
      },
      "source": [
        "Додатково можна визначати групи, що дозволяють встановити, які аргументи командного рядка не можуть передаватися в програму одночасно. "
      ]
    },
    {
      "cell_type": "code",
      "metadata": {
        "id": "JPQyriZbPwij"
      },
      "source": [
        "# argparse_8.py\n",
        "\n",
        "import argparse\n",
        "\n",
        "parser = argparse.ArgumentParser(description='A tutorial of argparse!')\n",
        "group = parser.add_mutually_exclusive_group(required=True)\n",
        "\n",
        "group.add_argument('--a', action='store_true', help=\"This is the 'a' variable\")\n",
        "group.add_argument('--b', action='store_true', help=\"This is the 'b' variable\")\n",
        "\n",
        "args = parser.parse_args()\n",
        "a = args.a\n",
        "b = args.b\n",
        "\n",
        "print(a)\n",
        "print(b)"
      ],
      "execution_count": null,
      "outputs": []
    },
    {
      "cell_type": "code",
      "metadata": {
        "colab": {
          "base_uri": "https://localhost:8080/"
        },
        "id": "fYzAQQjORYSL",
        "outputId": "66b8cf38-78fb-4bd4-d709-22c67de93625"
      },
      "source": [
        "!python argparse_8.py --a --b"
      ],
      "execution_count": null,
      "outputs": [
        {
          "output_type": "stream",
          "name": "stdout",
          "text": [
            "usage: argparse_8.py [-h] (--a | --b)\n",
            "argparse_8.py: error: argument --b: not allowed with argument --a\n"
          ]
        }
      ]
    },
    {
      "cell_type": "code",
      "metadata": {
        "id": "pj8W4A_wRheY"
      },
      "source": [
        "!python argparse_8.py --a"
      ],
      "execution_count": null,
      "outputs": []
    },
    {
      "cell_type": "markdown",
      "metadata": {
        "id": "vkjwTlNePxeR"
      },
      "source": [
        "Параметри `--a` та `--b` додані у таку групу й python не дозволить одночасно передати в програму ці параметри. Це гарантує, що користувач не зможе передати у програму одночасно параметри, що суперечать один одному. "
      ]
    },
    {
      "cell_type": "markdown",
      "metadata": {
        "id": "aGnY4Ja260ft"
      },
      "source": [
        "###Література\n",
        "https://realpython.com/python-command-line-arguments\n",
        "\n",
        "https://realpython.com/command-line-interfaces-python-argparse/\n",
        "\n",
        "https://levelup.gitconnected.com/the-easy-guide-to-python-command-line-arguments-96b4607baea1\n"
      ]
    },
    {
      "cell_type": "code",
      "metadata": {
        "colab": {
          "base_uri": "https://localhost:8080/"
        },
        "id": "gQI4Cd-KcnLi",
        "outputId": "b65c21c6-cbf3-4f29-d47c-30fd56b6c8b5"
      },
      "source": [
        "!python3 -m venv venv"
      ],
      "execution_count": null,
      "outputs": [
        {
          "output_type": "stream",
          "name": "stdout",
          "text": [
            "Error: Command '['/content/venv/bin/python3', '-Im', 'ensurepip', '--upgrade', '--default-pip']' returned non-zero exit status 1.\n"
          ]
        }
      ]
    },
    {
      "cell_type": "code",
      "metadata": {
        "colab": {
          "base_uri": "https://localhost:8080/"
        },
        "id": "226KyLu3dhDv",
        "outputId": "c6782ef1-fe8e-48bf-d02a-8a8c0531cefa"
      },
      "source": [
        "!source /content/venv/bin/activate"
      ],
      "execution_count": null,
      "outputs": [
        {
          "output_type": "stream",
          "name": "stdout",
          "text": [
            "/bin/bash: /content/venv/bin/activate: No such file or directory\n"
          ]
        }
      ]
    }
  ]
}